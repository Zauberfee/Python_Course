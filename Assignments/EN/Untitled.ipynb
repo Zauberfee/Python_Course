{
 "cells": [
  {
   "cell_type": "code",
   "execution_count": 3,
   "id": "66770ea2-f882-46fd-91c4-6eef7631a5c6",
   "metadata": {},
   "outputs": [
    {
     "ename": "BlobError",
     "evalue": "unable to open image './Nibelungenlied/nibe-030.jpg': No such file or directory @ error/blob.c/OpenBlob/3569",
     "output_type": "error",
     "traceback": [
      "\u001b[0;31m---------------------------------------------------------------------------\u001b[0m",
      "\u001b[0;31mBlobError\u001b[0m                                 Traceback (most recent call last)",
      "Input \u001b[0;32mIn [3]\u001b[0m, in \u001b[0;36m<cell line: 5>\u001b[0;34m()\u001b[0m\n\u001b[1;32m      2\u001b[0m \u001b[38;5;28;01mfrom\u001b[39;00m \u001b[38;5;21;01mwand\u001b[39;00m\u001b[38;5;21;01m.\u001b[39;00m\u001b[38;5;21;01mdisplay\u001b[39;00m \u001b[38;5;28;01mimport\u001b[39;00m display\n\u001b[1;32m      3\u001b[0m \u001b[38;5;28;01mfrom\u001b[39;00m \u001b[38;5;21;01mwand\u001b[39;00m\u001b[38;5;21;01m.\u001b[39;00m\u001b[38;5;21;01mdrawing\u001b[39;00m \u001b[38;5;28;01mimport\u001b[39;00m Drawing\n\u001b[0;32m----> 5\u001b[0m v_page_30 \u001b[38;5;241m=\u001b[39m \u001b[43mImage\u001b[49m\u001b[43m(\u001b[49m\u001b[43mfilename\u001b[49m\u001b[38;5;241;43m=\u001b[39;49m\u001b[38;5;124;43m'\u001b[39;49m\u001b[38;5;124;43m./Nibelungenlied/nibe-030.jpg\u001b[39;49m\u001b[38;5;124;43m'\u001b[39;49m\u001b[43m)\u001b[49m\n\u001b[1;32m      7\u001b[0m cropping_playground \u001b[38;5;241m=\u001b[39m v_page_30\u001b[38;5;241m.\u001b[39mclone()\n\u001b[1;32m      8\u001b[0m cropping_playgorund\u001b[38;5;241m.\u001b[39mcrop(width \u001b[38;5;241m=\u001b[39m \u001b[38;5;241m200\u001b[39m, height \u001b[38;5;241m=\u001b[39m \u001b[38;5;241m200\u001b[39m, gravity \u001b[38;5;241m=\u001b[39m \u001b[38;5;124m'\u001b[39m\u001b[38;5;124mcenter\u001b[39m\u001b[38;5;124m'\u001b[39m)\n",
      "File \u001b[0;32m~/opt/anaconda3/lib/python3.9/site-packages/wand/image.py:9365\u001b[0m, in \u001b[0;36mImage.__init__\u001b[0;34m(self, image, blob, file, filename, pseudo, background, colorspace, depth, extract, format, height, interlace, resolution, sampling_factors, units, width)\u001b[0m\n\u001b[1;32m   9363\u001b[0m     \u001b[38;5;28mself\u001b[39m\u001b[38;5;241m.\u001b[39mread(blob\u001b[38;5;241m=\u001b[39mblob)\n\u001b[1;32m   9364\u001b[0m \u001b[38;5;28;01melif\u001b[39;00m filename \u001b[38;5;129;01mis\u001b[39;00m \u001b[38;5;129;01mnot\u001b[39;00m \u001b[38;5;28;01mNone\u001b[39;00m:\n\u001b[0;32m-> 9365\u001b[0m     \u001b[38;5;28;43mself\u001b[39;49m\u001b[38;5;241;43m.\u001b[39;49m\u001b[43mread\u001b[49m\u001b[43m(\u001b[49m\u001b[43mfilename\u001b[49m\u001b[38;5;241;43m=\u001b[39;49m\u001b[43mfilename\u001b[49m\u001b[43m)\u001b[49m\n\u001b[1;32m   9366\u001b[0m \u001b[38;5;66;03m# clear the wand format, otherwise any subsequent call to\u001b[39;00m\n\u001b[1;32m   9367\u001b[0m \u001b[38;5;66;03m# MagickGetImageBlob will silently change the image to this\u001b[39;00m\n\u001b[1;32m   9368\u001b[0m \u001b[38;5;66;03m# format again.\u001b[39;00m\n\u001b[1;32m   9369\u001b[0m library\u001b[38;5;241m.\u001b[39mMagickSetFormat(\u001b[38;5;28mself\u001b[39m\u001b[38;5;241m.\u001b[39mwand, binary(\u001b[38;5;124m\"\u001b[39m\u001b[38;5;124m\"\u001b[39m))\n",
      "File \u001b[0;32m~/opt/anaconda3/lib/python3.9/site-packages/wand/image.py:10120\u001b[0m, in \u001b[0;36mImage.read\u001b[0;34m(self, file, filename, blob, background, colorspace, depth, extract, format, height, interlace, resolution, sampling_factors, units, width)\u001b[0m\n\u001b[1;32m  10118\u001b[0m     r \u001b[38;5;241m=\u001b[39m library\u001b[38;5;241m.\u001b[39mMagickReadImage(\u001b[38;5;28mself\u001b[39m\u001b[38;5;241m.\u001b[39mwand, filename)\n\u001b[1;32m  10119\u001b[0m \u001b[38;5;28;01mif\u001b[39;00m \u001b[38;5;129;01mnot\u001b[39;00m r:\n\u001b[0;32m> 10120\u001b[0m     \u001b[38;5;28;43mself\u001b[39;49m\u001b[38;5;241;43m.\u001b[39;49m\u001b[43mraise_exception\u001b[49m\u001b[43m(\u001b[49m\u001b[43m)\u001b[49m\n\u001b[1;32m  10121\u001b[0m     msg \u001b[38;5;241m=\u001b[39m (\u001b[38;5;124m'\u001b[39m\u001b[38;5;124mMagickReadImage returns false, but did not raise \u001b[39m\u001b[38;5;124m'\u001b[39m\n\u001b[1;32m  10122\u001b[0m            \u001b[38;5;124m'\u001b[39m\u001b[38;5;124mImageMagick  exception. This can occur when a delegate \u001b[39m\u001b[38;5;124m'\u001b[39m\n\u001b[1;32m  10123\u001b[0m            \u001b[38;5;124m'\u001b[39m\u001b[38;5;124mis missing, or returns EXIT_SUCCESS without generating a \u001b[39m\u001b[38;5;124m'\u001b[39m\n\u001b[1;32m  10124\u001b[0m            \u001b[38;5;124m'\u001b[39m\u001b[38;5;124mraster.\u001b[39m\u001b[38;5;124m'\u001b[39m)\n\u001b[1;32m  10125\u001b[0m     \u001b[38;5;28;01mraise\u001b[39;00m WandRuntimeError(msg)\n",
      "File \u001b[0;32m~/opt/anaconda3/lib/python3.9/site-packages/wand/resource.py:225\u001b[0m, in \u001b[0;36mResource.raise_exception\u001b[0;34m(self, stacklevel)\u001b[0m\n\u001b[1;32m    223\u001b[0m     warnings\u001b[38;5;241m.\u001b[39mwarn(e, stacklevel\u001b[38;5;241m=\u001b[39mstacklevel \u001b[38;5;241m+\u001b[39m \u001b[38;5;241m1\u001b[39m)\n\u001b[1;32m    224\u001b[0m \u001b[38;5;28;01melif\u001b[39;00m \u001b[38;5;28misinstance\u001b[39m(e, \u001b[38;5;167;01mException\u001b[39;00m):\n\u001b[0;32m--> 225\u001b[0m     \u001b[38;5;28;01mraise\u001b[39;00m e\n",
      "\u001b[0;31mBlobError\u001b[0m: unable to open image './Nibelungenlied/nibe-030.jpg': No such file or directory @ error/blob.c/OpenBlob/3569"
     ]
    }
   ],
   "source": [
    "from wand.image import Image\n",
    "from wand.display import display\n",
    "from wand.drawing import Drawing\n",
    "\n",
    "v_page_30 = Image(filename='./Nibelungenlied/nibe-030.jpg')\n",
    "\n",
    "cropping_playground = v_page_30.clone()\n",
    "cropping_playgorund.crop(width = 200, height = 200, gravity = 'center')\n",
    "\n",
    "cropping_playground.transform_colorspace('gray')\n",
    "cropping_playground.adaptive_trheshold(widht= 16, height= 16, offset= -0.08 * \n",
    "                                       cropping_playground.quantum_range)\n",
    "\n"
   ]
  },
  {
   "cell_type": "code",
   "execution_count": null,
   "id": "b2b7fb13-2ed8-4b60-a8c3-c4c41bafa132",
   "metadata": {},
   "outputs": [],
   "source": []
  }
 ],
 "metadata": {
  "kernelspec": {
   "display_name": "Python 3 (ipykernel)",
   "language": "python",
   "name": "python3"
  },
  "language_info": {
   "codemirror_mode": {
    "name": "ipython",
    "version": 3
   },
   "file_extension": ".py",
   "mimetype": "text/x-python",
   "name": "python",
   "nbconvert_exporter": "python",
   "pygments_lexer": "ipython3",
   "version": "3.9.12"
  }
 },
 "nbformat": 4,
 "nbformat_minor": 5
}
